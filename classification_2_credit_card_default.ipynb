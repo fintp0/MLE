{
 "cells": [
  {
   "cell_type": "markdown",
   "metadata": {
    "id": "ioQllDDHlLDQ"
   },
   "source": [
    "# Cross Validation With Multiple Algorithms\n",
    "\n",
    "\n",
    "We will use credit card default data from https://www.kaggle.com/datasets/uciml/default-of-credit-card-clients-dataset\n"
   ]
  },
  {
   "cell_type": "code",
   "execution_count": 161,
   "metadata": {
    "id": "hNNMaMAHk8pq"
   },
   "outputs": [],
   "source": [
    "import numpy as np\n",
    "import pandas as pd\n",
    "import matplotlib.pyplot as plt\n",
    "import seaborn as sns\n",
    "\n",
    "pd.options.display.float_format = '{:,.2f}'.format"
   ]
  },
  {
   "cell_type": "markdown",
   "metadata": {
    "id": "IVfT952YltQZ"
   },
   "source": [
    "## Step-1: Download Data"
   ]
  },
  {
   "cell_type": "code",
   "execution_count": 162,
   "metadata": {
    "colab": {
     "base_uri": "https://localhost:8080/"
    },
    "id": "Pq-p7ssilZdE",
    "outputId": "838f64a5-d2cc-451a-fcc8-6131a781b8bf"
   },
   "outputs": [
    {
     "name": "stdout",
     "output_type": "stream",
     "text": [
      "data_location: default.csv\n"
     ]
    }
   ],
   "source": [
    "import os\n",
    "import urllib.request\n",
    "\n",
    "data_url = 'https://raw.githubusercontent.com/elephantscale/datasets/master/credit-card-default/default.csv'\n",
    "data_location = os.path.basename(data_url)\n",
    "\n",
    "if not os.path.exists (data_location):\n",
    "    print(\"Downloading : \", data_url)\n",
    "    urllib.request.urlretrieve(data_url, data_location)\n",
    "print('data_location:', data_location)"
   ]
  },
  {
   "cell_type": "code",
   "execution_count": 163,
   "metadata": {
    "colab": {
     "base_uri": "https://localhost:8080/",
     "height": 456
    },
    "id": "gDYImJcJlyjl",
    "outputId": "ee331692-6958-4c2e-826c-fed2df42b4af"
   },
   "outputs": [
    {
     "data": {
      "text/html": [
       "<div>\n",
       "<style scoped>\n",
       "    .dataframe tbody tr th:only-of-type {\n",
       "        vertical-align: middle;\n",
       "    }\n",
       "\n",
       "    .dataframe tbody tr th {\n",
       "        vertical-align: top;\n",
       "    }\n",
       "\n",
       "    .dataframe thead th {\n",
       "        text-align: right;\n",
       "    }\n",
       "</style>\n",
       "<table border=\"1\" class=\"dataframe\">\n",
       "  <thead>\n",
       "    <tr style=\"text-align: right;\">\n",
       "      <th></th>\n",
       "      <th>ID</th>\n",
       "      <th>LIMIT_BAL</th>\n",
       "      <th>SEX</th>\n",
       "      <th>EDUCATION</th>\n",
       "      <th>MARRIAGE</th>\n",
       "      <th>AGE</th>\n",
       "      <th>PAY_0</th>\n",
       "      <th>PAY_2</th>\n",
       "      <th>PAY_3</th>\n",
       "      <th>PAY_4</th>\n",
       "      <th>...</th>\n",
       "      <th>BILL_AMT4</th>\n",
       "      <th>BILL_AMT5</th>\n",
       "      <th>BILL_AMT6</th>\n",
       "      <th>PAY_AMT1</th>\n",
       "      <th>PAY_AMT2</th>\n",
       "      <th>PAY_AMT3</th>\n",
       "      <th>PAY_AMT4</th>\n",
       "      <th>PAY_AMT5</th>\n",
       "      <th>PAY_AMT6</th>\n",
       "      <th>default</th>\n",
       "    </tr>\n",
       "  </thead>\n",
       "  <tbody>\n",
       "    <tr>\n",
       "      <th>21778</th>\n",
       "      <td>21779</td>\n",
       "      <td>220000</td>\n",
       "      <td>2</td>\n",
       "      <td>2</td>\n",
       "      <td>2</td>\n",
       "      <td>25</td>\n",
       "      <td>0</td>\n",
       "      <td>0</td>\n",
       "      <td>0</td>\n",
       "      <td>0</td>\n",
       "      <td>...</td>\n",
       "      <td>31807</td>\n",
       "      <td>33966</td>\n",
       "      <td>33288</td>\n",
       "      <td>1479</td>\n",
       "      <td>1820</td>\n",
       "      <td>1600</td>\n",
       "      <td>2688</td>\n",
       "      <td>0</td>\n",
       "      <td>1500</td>\n",
       "      <td>1</td>\n",
       "    </tr>\n",
       "    <tr>\n",
       "      <th>21565</th>\n",
       "      <td>21566</td>\n",
       "      <td>50000</td>\n",
       "      <td>2</td>\n",
       "      <td>3</td>\n",
       "      <td>2</td>\n",
       "      <td>23</td>\n",
       "      <td>0</td>\n",
       "      <td>0</td>\n",
       "      <td>0</td>\n",
       "      <td>0</td>\n",
       "      <td>...</td>\n",
       "      <td>34243</td>\n",
       "      <td>28014</td>\n",
       "      <td>28528</td>\n",
       "      <td>2000</td>\n",
       "      <td>1700</td>\n",
       "      <td>1502</td>\n",
       "      <td>1000</td>\n",
       "      <td>1200</td>\n",
       "      <td>1200</td>\n",
       "      <td>0</td>\n",
       "    </tr>\n",
       "    <tr>\n",
       "      <th>18553</th>\n",
       "      <td>18554</td>\n",
       "      <td>50000</td>\n",
       "      <td>2</td>\n",
       "      <td>1</td>\n",
       "      <td>2</td>\n",
       "      <td>25</td>\n",
       "      <td>0</td>\n",
       "      <td>0</td>\n",
       "      <td>2</td>\n",
       "      <td>0</td>\n",
       "      <td>...</td>\n",
       "      <td>43127</td>\n",
       "      <td>44210</td>\n",
       "      <td>45844</td>\n",
       "      <td>4000</td>\n",
       "      <td>0</td>\n",
       "      <td>2000</td>\n",
       "      <td>1800</td>\n",
       "      <td>2500</td>\n",
       "      <td>5500</td>\n",
       "      <td>1</td>\n",
       "    </tr>\n",
       "    <tr>\n",
       "      <th>22097</th>\n",
       "      <td>22098</td>\n",
       "      <td>200000</td>\n",
       "      <td>2</td>\n",
       "      <td>1</td>\n",
       "      <td>2</td>\n",
       "      <td>29</td>\n",
       "      <td>1</td>\n",
       "      <td>-1</td>\n",
       "      <td>0</td>\n",
       "      <td>0</td>\n",
       "      <td>...</td>\n",
       "      <td>1675</td>\n",
       "      <td>97</td>\n",
       "      <td>138</td>\n",
       "      <td>928</td>\n",
       "      <td>1000</td>\n",
       "      <td>1000</td>\n",
       "      <td>97</td>\n",
       "      <td>138</td>\n",
       "      <td>0</td>\n",
       "      <td>0</td>\n",
       "    </tr>\n",
       "    <tr>\n",
       "      <th>25715</th>\n",
       "      <td>25716</td>\n",
       "      <td>110000</td>\n",
       "      <td>2</td>\n",
       "      <td>2</td>\n",
       "      <td>1</td>\n",
       "      <td>35</td>\n",
       "      <td>0</td>\n",
       "      <td>0</td>\n",
       "      <td>0</td>\n",
       "      <td>0</td>\n",
       "      <td>...</td>\n",
       "      <td>84257</td>\n",
       "      <td>84762</td>\n",
       "      <td>86139</td>\n",
       "      <td>1500</td>\n",
       "      <td>1706</td>\n",
       "      <td>55000</td>\n",
       "      <td>3200</td>\n",
       "      <td>3300</td>\n",
       "      <td>3300</td>\n",
       "      <td>0</td>\n",
       "    </tr>\n",
       "    <tr>\n",
       "      <th>15849</th>\n",
       "      <td>15850</td>\n",
       "      <td>110000</td>\n",
       "      <td>2</td>\n",
       "      <td>1</td>\n",
       "      <td>1</td>\n",
       "      <td>28</td>\n",
       "      <td>0</td>\n",
       "      <td>0</td>\n",
       "      <td>0</td>\n",
       "      <td>0</td>\n",
       "      <td>...</td>\n",
       "      <td>106828</td>\n",
       "      <td>84729</td>\n",
       "      <td>82910</td>\n",
       "      <td>11602</td>\n",
       "      <td>4238</td>\n",
       "      <td>4316</td>\n",
       "      <td>11190</td>\n",
       "      <td>0</td>\n",
       "      <td>3000</td>\n",
       "      <td>0</td>\n",
       "    </tr>\n",
       "    <tr>\n",
       "      <th>9682</th>\n",
       "      <td>9683</td>\n",
       "      <td>130000</td>\n",
       "      <td>2</td>\n",
       "      <td>2</td>\n",
       "      <td>2</td>\n",
       "      <td>23</td>\n",
       "      <td>0</td>\n",
       "      <td>0</td>\n",
       "      <td>0</td>\n",
       "      <td>0</td>\n",
       "      <td>...</td>\n",
       "      <td>58470</td>\n",
       "      <td>59069</td>\n",
       "      <td>51599</td>\n",
       "      <td>3000</td>\n",
       "      <td>3000</td>\n",
       "      <td>3000</td>\n",
       "      <td>2500</td>\n",
       "      <td>2000</td>\n",
       "      <td>3000</td>\n",
       "      <td>0</td>\n",
       "    </tr>\n",
       "    <tr>\n",
       "      <th>17895</th>\n",
       "      <td>17896</td>\n",
       "      <td>20000</td>\n",
       "      <td>1</td>\n",
       "      <td>1</td>\n",
       "      <td>2</td>\n",
       "      <td>28</td>\n",
       "      <td>0</td>\n",
       "      <td>0</td>\n",
       "      <td>0</td>\n",
       "      <td>0</td>\n",
       "      <td>...</td>\n",
       "      <td>9907</td>\n",
       "      <td>9627</td>\n",
       "      <td>11500</td>\n",
       "      <td>2000</td>\n",
       "      <td>3000</td>\n",
       "      <td>2500</td>\n",
       "      <td>0</td>\n",
       "      <td>2000</td>\n",
       "      <td>5</td>\n",
       "      <td>0</td>\n",
       "    </tr>\n",
       "    <tr>\n",
       "      <th>26598</th>\n",
       "      <td>26599</td>\n",
       "      <td>160000</td>\n",
       "      <td>1</td>\n",
       "      <td>1</td>\n",
       "      <td>2</td>\n",
       "      <td>25</td>\n",
       "      <td>1</td>\n",
       "      <td>-1</td>\n",
       "      <td>2</td>\n",
       "      <td>2</td>\n",
       "      <td>...</td>\n",
       "      <td>0</td>\n",
       "      <td>0</td>\n",
       "      <td>0</td>\n",
       "      <td>10139</td>\n",
       "      <td>0</td>\n",
       "      <td>0</td>\n",
       "      <td>0</td>\n",
       "      <td>0</td>\n",
       "      <td>0</td>\n",
       "      <td>1</td>\n",
       "    </tr>\n",
       "    <tr>\n",
       "      <th>9376</th>\n",
       "      <td>9377</td>\n",
       "      <td>450000</td>\n",
       "      <td>2</td>\n",
       "      <td>1</td>\n",
       "      <td>1</td>\n",
       "      <td>69</td>\n",
       "      <td>-1</td>\n",
       "      <td>-1</td>\n",
       "      <td>-1</td>\n",
       "      <td>-1</td>\n",
       "      <td>...</td>\n",
       "      <td>0</td>\n",
       "      <td>6265</td>\n",
       "      <td>2374</td>\n",
       "      <td>0</td>\n",
       "      <td>1173</td>\n",
       "      <td>0</td>\n",
       "      <td>6265</td>\n",
       "      <td>2374</td>\n",
       "      <td>708</td>\n",
       "      <td>1</td>\n",
       "    </tr>\n",
       "  </tbody>\n",
       "</table>\n",
       "<p>10 rows × 25 columns</p>\n",
       "</div>"
      ],
      "text/plain": [
       "          ID  LIMIT_BAL  SEX  EDUCATION  MARRIAGE  AGE  PAY_0  PAY_2  PAY_3  \\\n",
       "21778  21779     220000    2          2         2   25      0      0      0   \n",
       "21565  21566      50000    2          3         2   23      0      0      0   \n",
       "18553  18554      50000    2          1         2   25      0      0      2   \n",
       "22097  22098     200000    2          1         2   29      1     -1      0   \n",
       "25715  25716     110000    2          2         1   35      0      0      0   \n",
       "15849  15850     110000    2          1         1   28      0      0      0   \n",
       "9682    9683     130000    2          2         2   23      0      0      0   \n",
       "17895  17896      20000    1          1         2   28      0      0      0   \n",
       "26598  26599     160000    1          1         2   25      1     -1      2   \n",
       "9376    9377     450000    2          1         1   69     -1     -1     -1   \n",
       "\n",
       "       PAY_4  ...  BILL_AMT4  BILL_AMT5  BILL_AMT6  PAY_AMT1  PAY_AMT2  \\\n",
       "21778      0  ...      31807      33966      33288      1479      1820   \n",
       "21565      0  ...      34243      28014      28528      2000      1700   \n",
       "18553      0  ...      43127      44210      45844      4000         0   \n",
       "22097      0  ...       1675         97        138       928      1000   \n",
       "25715      0  ...      84257      84762      86139      1500      1706   \n",
       "15849      0  ...     106828      84729      82910     11602      4238   \n",
       "9682       0  ...      58470      59069      51599      3000      3000   \n",
       "17895      0  ...       9907       9627      11500      2000      3000   \n",
       "26598      2  ...          0          0          0     10139         0   \n",
       "9376      -1  ...          0       6265       2374         0      1173   \n",
       "\n",
       "       PAY_AMT3  PAY_AMT4  PAY_AMT5  PAY_AMT6  default  \n",
       "21778      1600      2688         0      1500        1  \n",
       "21565      1502      1000      1200      1200        0  \n",
       "18553      2000      1800      2500      5500        1  \n",
       "22097      1000        97       138         0        0  \n",
       "25715     55000      3200      3300      3300        0  \n",
       "15849      4316     11190         0      3000        0  \n",
       "9682       3000      2500      2000      3000        0  \n",
       "17895      2500         0      2000         5        0  \n",
       "26598         0         0         0         0        1  \n",
       "9376          0      6265      2374       708        1  \n",
       "\n",
       "[10 rows x 25 columns]"
      ]
     },
     "execution_count": 163,
     "metadata": {},
     "output_type": "execute_result"
    }
   ],
   "source": [
    "data = pd.read_csv(data_location)\n",
    "data.sample(10)"
   ]
  },
  {
   "cell_type": "markdown",
   "metadata": {
    "id": "FLVjKutTmS7w"
   },
   "source": [
    "## Step-2: EDA"
   ]
  },
  {
   "cell_type": "code",
   "execution_count": 164,
   "metadata": {
    "colab": {
     "base_uri": "https://localhost:8080/"
    },
    "id": "awy4QJnenY3l",
    "outputId": "c3cdbaff-da62-4367-c78e-ebe941fcbc38"
   },
   "outputs": [
    {
     "data": {
      "text/plain": [
       "0    23364\n",
       "1     6636\n",
       "Name: default, dtype: int64"
      ]
     },
     "execution_count": 164,
     "metadata": {},
     "output_type": "execute_result"
    }
   ],
   "source": [
    "## Check data skew\n",
    "data['default'].value_counts()"
   ]
  },
  {
   "cell_type": "code",
   "execution_count": 165,
   "metadata": {
    "colab": {
     "base_uri": "https://localhost:8080/"
    },
    "id": "Xx039XLIBwXo",
    "outputId": "e3bc6d9d-cc14-4838-e712-b7795e65e574"
   },
   "outputs": [
    {
     "data": {
      "text/plain": [
       "0   0.78\n",
       "1   0.22\n",
       "Name: default, dtype: float64"
      ]
     },
     "execution_count": 165,
     "metadata": {},
     "output_type": "execute_result"
    }
   ],
   "source": [
    "data['default'].value_counts(normalize=True)"
   ]
  },
  {
   "cell_type": "markdown",
   "metadata": {
    "id": "FUKVrI47sAZO"
   },
   "source": [
    "## Step-3: Clean up \n",
    "\n",
    "TODO"
   ]
  },
  {
   "cell_type": "code",
   "execution_count": 166,
   "metadata": {},
   "outputs": [],
   "source": [
    "#data.isnull().sum().sort_values(ascending=False).head()\n",
    "#no zero "
   ]
  },
  {
   "cell_type": "markdown",
   "metadata": {
    "id": "F3x3Ur41sIKC"
   },
   "source": [
    "## Step-4: Shape data"
   ]
  },
  {
   "cell_type": "code",
   "execution_count": 167,
   "metadata": {
    "id": "C1QjYZz1r4l8"
   },
   "outputs": [],
   "source": [
    "label_col = 'default'\n",
    "\n",
    "feature_columns = data.columns\n",
    "## TODO : drop 'ID' and 'default' columns\n",
    "feature_columns = feature_columns.drop (['ID', 'default'])\n",
    "#print (feature_columns)"
   ]
  },
  {
   "cell_type": "code",
   "execution_count": 168,
   "metadata": {
    "colab": {
     "base_uri": "https://localhost:8080/"
    },
    "id": "9kCuOXtGsGd6",
    "outputId": "a2a50a50-f1c4-4ffe-ac06-31eb1b0bff1e"
   },
   "outputs": [
    {
     "name": "stdout",
     "output_type": "stream",
     "text": [
      "(30000, 23)\n",
      "(30000, 1)\n"
     ]
    }
   ],
   "source": [
    "X = data[feature_columns]\n",
    "y = data[[label_col]]\n",
    "\n",
    "print (X.shape)\n",
    "print (y.shape)\n"
   ]
  },
  {
   "cell_type": "markdown",
   "metadata": {
    "id": "t8YS13aWBwXp"
   },
   "source": [
    "## Step-5: Cross Validation"
   ]
  },
  {
   "cell_type": "code",
   "execution_count": 169,
   "metadata": {
    "colab": {
     "base_uri": "https://localhost:8080/"
    },
    "id": "qT7gRx7DtI6Q",
    "outputId": "47458822-76dc-4bbd-e04c-b84e08529801"
   },
   "outputs": [
    {
     "name": "stdout",
     "output_type": "stream",
     "text": [
      "\n",
      "=========  LR  =========\n",
      "{'fit_time': array([0.35639501, 0.35440087, 0.3720789 , 0.34443688, 0.30449915]),\n",
      " 'score_time': array([0.00696588, 0.0066309 , 0.00677204, 0.00708914, 0.00720501]),\n",
      " 'test_accuracy': array([0.7785    , 0.77883333, 0.77883333, 0.77883333, 0.77883333]),\n",
      " 'test_f1': array([0., 0., 0., 0., 0.]),\n",
      " 'test_precision': array([0., 0., 0., 0., 0.]),\n",
      " 'test_recall': array([0., 0., 0., 0., 0.]),\n",
      " 'test_roc_auc': array([0.61366839, 0.63233762, 0.66267504, 0.65995947, 0.65128403])}\n",
      "\n",
      "LR: accuracy : avg=0.78, median=0.78,  std=0.00,  cv_results=[0.7785     0.77883333 0.77883333 0.77883333 0.77883333]\n",
      "\n",
      "LR: ROC AUC : avg=0.64, median=0.65,  std=0.02,  cv_results=[0.61366839 0.63233762 0.66267504 0.65995947 0.65128403]\n",
      "\n",
      "=========  KNN  =========\n",
      "{'fit_time': array([0.01321816, 0.004107  , 0.00406909, 0.00395799, 0.00395703]),\n",
      " 'score_time': array([8.22267079, 7.34145999, 8.623142  , 8.7252233 , 8.64381623]),\n",
      " 'test_accuracy': array([0.7495    , 0.74966667, 0.752     , 0.76133333, 0.763     ]),\n",
      " 'test_f1': array([0.23666836, 0.22816033, 0.26843658, 0.25726141, 0.24361702]),\n",
      " 'test_precision': array([0.36349454, 0.35864297, 0.38613861, 0.41264559, 0.41410488]),\n",
      " 'test_recall': array([0.17545181, 0.16729465, 0.2057272 , 0.18688772, 0.17256971]),\n",
      " 'test_roc_auc': array([0.60114755, 0.58668696, 0.60877677, 0.62490689, 0.61763637])}\n",
      "\n",
      "KNN: accuracy : avg=0.76, median=0.75,  std=0.01,  cv_results=[0.7495     0.74966667 0.752      0.76133333 0.763     ]\n",
      "\n",
      "KNN: ROC AUC : avg=0.61, median=0.61,  std=0.01,  cv_results=[0.60114755 0.58668696 0.60877677 0.62490689 0.61763637]\n",
      "\n",
      "=========  CART  =========\n",
      "{'fit_time': array([0.42603898, 0.43957806, 0.41772103, 0.42096996, 0.39074016]),\n",
      " 'score_time': array([0.00913906, 0.00809407, 0.00766587, 0.00835085, 0.00720191]),\n",
      " 'test_accuracy': array([0.715     , 0.718     , 0.7185    , 0.74333333, 0.73366667]),\n",
      " 'test_f1': array([0.3862168 , 0.39267767, 0.4042328 , 0.41930618, 0.40060015]),\n",
      " 'test_precision': array([0.36899863, 0.37491432, 0.37997347, 0.41962264, 0.39880508]),\n",
      " 'test_recall': array([0.40512048, 0.41220799, 0.43180106, 0.4189902 , 0.40241145]),\n",
      " 'test_roc_auc': array([0.60492817, 0.60832282, 0.61615655, 0.62702741, 0.6154403 ])}\n",
      "\n",
      "CART: accuracy : avg=0.73, median=0.72,  std=0.01,  cv_results=[0.715      0.718      0.7185     0.74333333 0.73366667]\n",
      "\n",
      "CART: ROC AUC : avg=0.61, median=0.62,  std=0.01,  cv_results=[0.60492817 0.60832282 0.61615655 0.62702741 0.6154403 ]\n",
      "\n",
      "=========  RF  =========\n",
      "{'fit_time': array([4.6843071 , 4.70299911, 4.66991901, 4.73145819, 4.71573281]),\n",
      " 'score_time': array([0.20114493, 0.19627786, 0.19821095, 0.19911194, 0.19327426]),\n",
      " 'test_accuracy': array([0.8045    , 0.80533333, 0.81716667, 0.82533333, 0.81966667]),\n",
      " 'test_f1': array([0.43902439, 0.45267104, 0.4947029 , 0.4847591 , 0.46646943]),\n",
      " 'test_precision': array([0.60157274, 0.59851301, 0.63625592, 0.69731259, 0.67475036]),\n",
      " 'test_recall': array([0.34563253, 0.3639789 , 0.40467219, 0.37151469, 0.3564431 ]),\n",
      " 'test_roc_auc': array([0.73939239, 0.74058159, 0.77210969, 0.78344539, 0.77340737])}\n",
      "\n",
      "RF: accuracy : avg=0.81, median=0.82,  std=0.01,  cv_results=[0.8045     0.80533333 0.81716667 0.82533333 0.81966667]\n",
      "\n",
      "RF: ROC AUC : avg=0.76, median=0.77,  std=0.02,  cv_results=[0.73939239 0.74058159 0.77210969 0.78344539 0.77340737]\n",
      "\n",
      "=========  GB  =========\n",
      "{'fit_time': array([7.05244899, 7.01186728, 6.997509  , 6.96285081, 6.99211287]),\n",
      " 'score_time': array([0.01794887, 0.01973081, 0.01876497, 0.01748204, 0.01796722]),\n",
      " 'test_accuracy': array([0.80683333, 0.80966667, 0.824     , 0.8345    , 0.82616667]),\n",
      " 'test_f1': array([0.43102602, 0.44616877, 0.50141643, 0.51059635, 0.47082699]),\n",
      " 'test_precision': array([0.61918195, 0.62585034, 0.67130215, 0.73789174, 0.72049689]),\n",
      " 'test_recall': array([0.33057229, 0.34664657, 0.40015072, 0.39035418, 0.34966089]),\n",
      " 'test_roc_auc': array([0.7566032 , 0.75369851, 0.79007715, 0.79860955, 0.79915639])}\n",
      "\n",
      "GB: accuracy : avg=0.82, median=0.82,  std=0.01,  cv_results=[0.80683333 0.80966667 0.824      0.8345     0.82616667]\n",
      "\n",
      "GB: ROC AUC : avg=0.78, median=0.79,  std=0.02,  cv_results=[0.7566032  0.75369851 0.79007715 0.79860955 0.79915639]\n",
      "\n",
      "=========  SVM  =========\n",
      "{'fit_time': array([14.98983598, 15.00959396, 15.25503206, 15.15781784, 15.19457412]),\n",
      " 'score_time': array([8.1700809 , 8.15998697, 8.15395308, 8.13137698, 8.13156986]),\n",
      " 'test_accuracy': array([0.77866667, 0.77883333, 0.77883333, 0.77883333, 0.77883333]),\n",
      " 'test_f1': array([0., 0., 0., 0., 0.]),\n",
      " 'test_precision': array([0., 0., 0., 0., 0.]),\n",
      " 'test_recall': array([0., 0., 0., 0., 0.]),\n",
      " 'test_roc_auc': array([0.55623962, 0.56348532, 0.54311699, 0.59259175, 0.52557719])}\n",
      "\n",
      "SVM: accuracy : avg=0.78, median=0.78,  std=0.00,  cv_results=[0.77866667 0.77883333 0.77883333 0.77883333 0.77883333]\n",
      "\n",
      "SVM: ROC AUC : avg=0.56, median=0.56,  std=0.02,  cv_results=[0.55623962 0.56348532 0.54311699 0.59259175 0.52557719]\n"
     ]
    }
   ],
   "source": [
    "from sklearn.linear_model import LogisticRegression\n",
    "from sklearn.tree import DecisionTreeClassifier\n",
    "from sklearn.neighbors import KNeighborsClassifier\n",
    "from sklearn.svm import SVC\n",
    "from sklearn.naive_bayes import GaussianNB\n",
    "from sklearn.ensemble import RandomForestClassifier\n",
    "from sklearn.ensemble import GradientBoostingClassifier\n",
    "import numpy as np\n",
    "from sklearn.model_selection import KFold\n",
    "from sklearn.model_selection import cross_val_score\n",
    "from sklearn.model_selection import cross_validate\n",
    "from pprint import pprint\n",
    "\n",
    "## Choose models, we want to compare\n",
    "## TODO: Here are we are choosing 'default' models\n",
    "## What if we choose the 'best of' for each model\n",
    "## See 'hyper-1' notebook for how to get the best model :-) \n",
    "\n",
    "models = []\n",
    "models.append(('LR', LogisticRegression(max_iter=500)))\n",
    "models.append(('KNN', KNeighborsClassifier()))\n",
    "models.append(('CART', DecisionTreeClassifier()))\n",
    "models.append(('RF', RandomForestClassifier()))\n",
    "models.append(('GB', GradientBoostingClassifier()))\n",
    "models.append(('SVM', SVC()))\n",
    "#models.append(('NB', GaussianNB()))\n",
    "\n",
    "\n",
    "results1 = []\n",
    "results2 = []\n",
    "names = []\n",
    "## for classification tasks\n",
    "scoring_metrics = ['accuracy', 'precision', 'recall', 'f1', 'roc_auc']\n",
    "## for regression tasks\n",
    "#scoring_metrics = ['r2', 'rmse']\n",
    "y2 = np.ravel(y)\n",
    "for name, model in models:\n",
    "    print ('\\n========= ', name , ' =========')\n",
    "    kfold = KFold(n_splits=10)\n",
    "    \n",
    "    ## cv can be int or kfold\n",
    "    cv_results = cross_validate(model, X, y2, cv=5, scoring=scoring_metrics, n_jobs=-1)\n",
    "    pprint (cv_results)\n",
    "    # cv_results = cross_val_score(model, X, y, cv=kfold, scoring=scoring_metric)\n",
    "    this_result1 = cv_results['test_accuracy']\n",
    "    this_result2 = cv_results['test_roc_auc']\n",
    "    results1.append(this_result1)\n",
    "    results2.append(this_result2)\n",
    "    names.append(name)\n",
    "    print(\"\\n{}: accuracy : avg={:,.2f}, median={:,.2f},  std={:,.2f},  cv_results={}\".format (\n",
    "        name, np.mean(this_result1), np.median(this_result1), np.std(this_result1), this_result1))\n",
    "    print(\"\\n{}: ROC AUC : avg={:,.2f}, median={:,.2f},  std={:,.2f},  cv_results={}\".format (\n",
    "        name, np.mean(this_result2), np.median(this_result2), np.std(this_result2), this_result2))"
   ]
  },
  {
   "cell_type": "markdown",
   "metadata": {
    "id": "OqWNkuLKBwXq"
   },
   "source": [
    "## Step-6: Vizualize Results"
   ]
  },
  {
   "cell_type": "code",
   "execution_count": 170,
   "metadata": {
    "id": "iydE0iNzBwXr",
    "outputId": "e4e134ce-2689-4e1e-892d-2cfdc56ac8f1"
   },
   "outputs": [
    {
     "data": {
      "image/png": "[encoded data removed]",
      "text/plain": [
       "<Figure size 720x432 with 1 Axes>"
      ]
     },
     "metadata": {
      "needs_background": "light"
     },
     "output_type": "display_data"
    }
   ],
   "source": [
    "import matplotlib.pyplot as plt\n",
    "import seaborn as sns\n",
    "\n",
    "plt.figure(figsize = (10,6))\n",
    "\n",
    "# boxplot algorithm comparison\n",
    "ax = sns.boxplot(data=results1)\n",
    "ax.set_title('Algorithm Comparison')\n",
    "ax.set_xticklabels(names)\n",
    "ax.set_ylabel('accuracy')\n",
    "plt.show()"
   ]
  },
  {
   "cell_type": "code",
   "execution_count": 171,
   "metadata": {},
   "outputs": [
    {
     "data": {
      "image/png": "[encoded data removed]",
      "text/plain": [
       "<Figure size 720x432 with 1 Axes>"
      ]
     },
     "metadata": {
      "needs_background": "light"
     },
     "output_type": "display_data"
    }
   ],
   "source": [
    "import matplotlib.pyplot as plt\n",
    "import seaborn as sns\n",
    "\n",
    "plt.figure(figsize = (10,6))\n",
    "\n",
    "# boxplot algorithm comparison\n",
    "ax = sns.boxplot(data=results2) \n",
    "ax.set_title('Algorithm Comparison')\n",
    "ax.set_xticklabels(names)\n",
    "ax.set_ylabel('ROC AUC')\n",
    "plt.show()"
   ]
  },
  {
   "cell_type": "markdown",
   "metadata": {},
   "source": [
    "## Step-7: Performance Improvement"
   ]
  },
  {
   "cell_type": "code",
   "execution_count": 172,
   "metadata": {},
   "outputs": [
    {
     "data": {
      "image/png": "[encoded data removed]",
      "text/plain": [
       "<Figure size 432x288 with 1 Axes>"
      ]
     },
     "metadata": {
      "needs_background": "light"
     },
     "output_type": "display_data"
    },
    {
     "data": {
      "image/png": "[encoded data removed]",
      "text/plain": [
       "<Figure size 432x288 with 1 Axes>"
      ]
     },
     "metadata": {
      "needs_background": "light"
     },
     "output_type": "display_data"
    },
    {
     "data": {
      "image/png": "[encoded data removed]",
      "text/plain": [
       "<Figure size 432x288 with 1 Axes>"
      ]
     },
     "metadata": {
      "needs_background": "light"
     },
     "output_type": "display_data"
    },
    {
     "data": {
      "image/png": "[encoded data removed]",
      "text/plain": [
       "<Figure size 432x288 with 1 Axes>"
      ]
     },
     "metadata": {
      "needs_background": "light"
     },
     "output_type": "display_data"
    }
   ],
   "source": [
    "#####################################################################################################\n",
    "# How can we improve the output performance (e.g. accuracy, F1, roc_auc, etc) given imbalanced data?\n",
    "#\n",
    "# Keyword: resampling the data!  \n",
    "#\n",
    "# Either oversample the minority class [RandomOverSampler from the imblearn package]\n",
    "# or undersample the majority class    [RandomUnderSampler from the imblearn package]\n",
    "# to balance the dataset. \n",
    "#\n",
    "# In this case, I use RandomOverSampler to oversample the minority class (target = 1)\n",
    "#####################################################################################################\n",
    "\n",
    "import matplotlib.pyplot as plt\n",
    "from imblearn.over_sampling import RandomOverSampler\n",
    "\n",
    "ros = RandomOverSampler(random_state=10)\n",
    "X_resampled, y_resampled = ros.fit_resample(X, y)\n",
    "\n",
    "data_resampled = pd.concat([X_resampled,y_resampled], axis = 1)\n",
    "\n",
    "###############################################\n",
    "# Visualized y target before and after resample\n",
    "###############################################\n",
    "data['default'].value_counts().sort_index().plot(kind='bar')\n",
    "plt.title('Initial Target', fontsize=18)\n",
    "plt.show()\n",
    "\n",
    "data_resampled['default'].value_counts().sort_index().plot(kind='bar')\n",
    "plt.title('Resampled Target', fontsize=18)\n",
    "plt.show()\n",
    "\n",
    "########################################################\n",
    "# Visualized 1st feature of X before and after resample\n",
    "########################################################\n",
    "\n",
    "data_=data.drop('ID', axis=1)\n",
    "\n",
    "# Plot histogram of first feature of X\n",
    "plt.hist(data_[data_['default']==1].iloc[:,0], alpha=0.5, label='data ['+ data_.columns[0]+']')\n",
    "\n",
    "# Plot histogram of first feature of X_resampled\n",
    "plt.hist(data_resampled[data_resampled['default']==1].iloc[:,0], alpha=0.5, label='data_resampled ['+ data_.columns[0]+']')\n",
    "plt.title('Histogram', fontsize=18)\n",
    "plt.legend()\n",
    "plt.show()\n",
    "\n",
    "plt.hist(data_[data_['default']==1].iloc[:, 0], alpha=0.5, label='data ['+ data_.columns[0]+']', density=True)\n",
    "plt.hist(data_resampled[data_resampled['default']==1].iloc[:, 0], alpha=0.5, label='data_resampled ['+ data_.columns[0]+']', density=True)\n",
    "plt.title('Normalized Histogram', fontsize=18)\n",
    "plt.legend()\n",
    "plt.show()"
   ]
  },
  {
   "cell_type": "code",
   "execution_count": 173,
   "metadata": {
    "id": "kc7VxyVlBwXr"
   },
   "outputs": [
    {
     "name": "stdout",
     "output_type": "stream",
     "text": [
      "\n",
      "=========  LR  =========\n",
      "{'fit_time': array([0.35821295, 0.33972096, 0.40290928, 0.41839528, 0.41370487]),\n",
      " 'score_time': array([0.01759505, 0.010957  , 0.01217365, 0.01110601, 0.00957799]),\n",
      " 'test_accuracy': array([0.60721164, 0.60121977, 0.59479991, 0.63338684, 0.62557517]),\n",
      " 'test_f1': array([0.65028103, 0.64125517, 0.64053156, 0.66339163, 0.66006024]),\n",
      " 'test_precision': array([0.58602335, 0.58275017, 0.57557148, 0.61326067, 0.60434086]),\n",
      " 'test_recall': array([0.73036593, 0.71281832, 0.72202012, 0.72244811, 0.7270976 ]),\n",
      " 'test_roc_auc': array([0.6461782 , 0.64025491, 0.63483828, 0.67855892, 0.66479783])}\n",
      "\n",
      "LR: accuracy : avg=0.61, median=0.61,  std=0.01,  cv_results=[0.60721164 0.60121977 0.59479991 0.63338684 0.62557517]\n",
      "\n",
      "LR: ROC AUC : avg=0.65, median=0.65,  std=0.02,  cv_results=[0.6461782  0.64025491 0.63483828 0.67855892 0.66479783]\n",
      "\n",
      "=========  KNN  =========\n",
      "{'fit_time': array([0.00511312, 0.00529194, 0.00531507, 0.00494099, 0.01375794]),\n",
      " 'score_time': array([16.515975  , 15.4546361 , 17.62438393, 17.422611  , 17.70066619]),\n",
      " 'test_accuracy': array([0.70500749, 0.69912262, 0.71752621, 0.71899411, 0.72776886]),\n",
      " 'test_f1': array([0.72872183, 0.72404318, 0.7464951 , 0.74798464, 0.75334497]),\n",
      " 'test_precision': array([0.67449909, 0.6686605 , 0.67705975, 0.67809292, 0.68858561]),\n",
      " 'test_recall': array([0.79242457, 0.78942863, 0.8317997 , 0.83393965, 0.83154966]),\n",
      " 'test_roc_auc': array([0.77432639, 0.76933478, 0.79438837, 0.80369807, 0.80778613])}\n",
      "\n",
      "KNN: accuracy : avg=0.71, median=0.72,  std=0.01,  cv_results=[0.70500749 0.69912262 0.71752621 0.71899411 0.72776886]\n",
      "\n",
      "KNN: ROC AUC : avg=0.79, median=0.79,  std=0.02,  cv_results=[0.77432639 0.76933478 0.79438837 0.80369807 0.80778613]\n",
      "\n",
      "=========  CART  =========\n",
      "{'fit_time': array([0.54777503, 0.51730204, 0.53918505, 0.54492021, 0.55276418]),\n",
      " 'score_time': array([0.01323795, 0.01609087, 0.01704597, 0.0109477 , 0.01204395]),\n",
      " 'test_accuracy': array([0.86999786, 0.8681789 , 0.89278836, 0.89919743, 0.90262172]),\n",
      " 'test_f1': array([0.88018933, 0.8786446 , 0.90300097, 0.9084014 , 0.91113281]),\n",
      " 'test_precision': array([0.81620337, 0.81401716, 0.82446526, 0.83247193, 0.83782328]),\n",
      " 'test_recall': array([0.95506099, 0.954419  , 0.99807404, 0.99957201, 0.99850171]),\n",
      " 'test_roc_auc': array([0.87058224, 0.86859945, 0.89380842, 0.89946318, 0.90349788])}\n",
      "\n",
      "CART: accuracy : avg=0.89, median=0.89,  std=0.01,  cv_results=[0.86999786 0.8681789  0.89278836 0.89919743 0.90262172]\n",
      "\n",
      "CART: ROC AUC : avg=0.89, median=0.89,  std=0.01,  cv_results=[0.87058224 0.86859945 0.89380842 0.89946318 0.90349788]\n",
      "\n",
      "=========  RF  =========\n",
      "{'fit_time': array([7.04627991, 7.02730513, 7.10424614, 7.16009808, 7.18032169]),\n",
      " 'score_time': array([0.34818625, 0.33246517, 0.3289659 , 0.31728506, 0.31135726]),\n",
      " 'test_accuracy': array([0.92317569, 0.92082174, 0.94190028, 0.95612627, 0.95334403]),\n",
      " 'test_f1': array([0.92559585, 0.92363261, 0.94503492, 0.95797458, 0.95537359]),\n",
      " 'test_precision': array([0.89732771, 0.89196731, 0.8966577 , 0.91933897, 0.91545704]),\n",
      " 'test_recall': array([0.95570297, 0.95762893, 0.99893002, 1.        , 0.99892979]),\n",
      " 'test_roc_auc': array([0.97324388, 0.97244125, 0.99471711, 0.99659563, 0.99626788])}\n",
      "\n",
      "RF: accuracy : avg=0.94, median=0.94,  std=0.01,  cv_results=[0.92317569 0.92082174 0.94190028 0.95612627 0.95334403]\n",
      "\n",
      "RF: ROC AUC : avg=0.99, median=0.99,  std=0.01,  cv_results=[0.97324388 0.97244125 0.99471711 0.99659563 0.99626788]\n",
      "\n",
      "=========  GB  =========\n",
      "{'fit_time': array([11.18196583, 11.18768716, 11.22775698, 11.22957206, 11.2470789 ]),\n",
      " 'score_time': array([0.03374004, 0.03295016, 0.03436494, 0.03098273, 0.03259802]),\n",
      " 'test_accuracy': array([0.71613525, 0.69965761, 0.71313931, 0.73237025, 0.72808989]),\n",
      " 'test_f1': array([0.70241167, 0.6845713 , 0.69002197, 0.70621403, 0.70214512]),\n",
      " 'test_precision': array([0.73809524, 0.72077615, 0.75050302, 0.7828125 , 0.7761078 ]),\n",
      " 'test_recall': array([0.67001926, 0.65182966, 0.63856195, 0.64326985, 0.64105308]),\n",
      " 'test_roc_auc': array([0.78467526, 0.77505521, 0.7887194 , 0.81265085, 0.80098907])}\n",
      "\n",
      "GB: accuracy : avg=0.72, median=0.72,  std=0.01,  cv_results=[0.71613525 0.69965761 0.71313931 0.73237025 0.72808989]\n",
      "\n",
      "GB: ROC AUC : avg=0.79, median=0.79,  std=0.01,  cv_results=[0.78467526 0.77505521 0.7887194  0.81265085 0.80098907]\n",
      "\n",
      "=========  SVM  =========\n",
      "{'fit_time': array([55.52977681, 58.01003695, 59.26414204, 59.92941976, 59.28232002]),\n",
      " 'score_time': array([36.84348607, 36.71223402, 36.48229194, 36.59239507, 36.934093  ]),\n",
      " 'test_accuracy': array([0.60603467, 0.60400171, 0.60164776, 0.62750134, 0.62728732]),\n",
      " 'test_f1': array([0.63838146, 0.62852554, 0.63039809, 0.6536663 , 0.64317181]),\n",
      " 'test_precision': array([0.58994373, 0.59187146, 0.58796296, 0.61082187, 0.61682059]),\n",
      " 'test_recall': array([0.6954847 , 0.67001926, 0.67943505, 0.70297453, 0.671875  ]),\n",
      " 'test_roc_auc': array([0.66585565, 0.65802888, 0.65884294, 0.68462393, 0.6844041 ])}\n",
      "\n",
      "SVM: accuracy : avg=0.61, median=0.61,  std=0.01,  cv_results=[0.60603467 0.60400171 0.60164776 0.62750134 0.62728732]\n",
      "\n",
      "SVM: ROC AUC : avg=0.67, median=0.67,  std=0.01,  cv_results=[0.66585565 0.65802888 0.65884294 0.68462393 0.6844041 ]\n"
     ]
    }
   ],
   "source": [
    "from sklearn.linear_model import LogisticRegression\n",
    "from sklearn.tree import DecisionTreeClassifier\n",
    "from sklearn.neighbors import KNeighborsClassifier\n",
    "from sklearn.svm import SVC\n",
    "from sklearn.naive_bayes import GaussianNB\n",
    "from sklearn.ensemble import RandomForestClassifier\n",
    "from sklearn.ensemble import GradientBoostingClassifier\n",
    "import numpy as np\n",
    "from sklearn.model_selection import KFold\n",
    "from sklearn.model_selection import cross_val_score\n",
    "from sklearn.model_selection import cross_validate\n",
    "from pprint import pprint\n",
    "\n",
    "## Choose models, we want to compare\n",
    "## TODO: Here are we are choosing 'default' models\n",
    "## What if we choose the 'best of' for each model\n",
    "## See 'hyper-1' notebook for how to get the best model :-) \n",
    "\n",
    "models = []\n",
    "models.append(('LR', LogisticRegression(max_iter=500)))\n",
    "models.append(('KNN', KNeighborsClassifier()))\n",
    "models.append(('CART', DecisionTreeClassifier()))\n",
    "models.append(('RF', RandomForestClassifier()))\n",
    "models.append(('GB', GradientBoostingClassifier()))\n",
    "models.append(('SVM', SVC()))\n",
    "#models.append(('NB', GaussianNB()))\n",
    "\n",
    "\n",
    "results3 = []\n",
    "results4 = []\n",
    "names = []\n",
    "## for classification tasks\n",
    "scoring_metrics = ['accuracy', 'precision', 'recall', 'f1', 'roc_auc']\n",
    "## for regression tasks\n",
    "#scoring_metrics = ['r2', 'rmse']\n",
    "\n",
    "y2 = np.ravel(y_resampled.copy())\n",
    "X = X_resampled.copy()\n",
    "\n",
    "\n",
    "for name, model in models:\n",
    "    print ('\\n========= ', name , ' =========')\n",
    "    kfold = KFold(n_splits=10)\n",
    "    \n",
    "    ## cv can be int or kfold\n",
    "    cv_results = cross_validate(model, X, y2, cv=5, scoring=scoring_metrics, n_jobs=-1)\n",
    "    pprint (cv_results)\n",
    "    # cv_results = cross_val_score(model, X, y, cv=kfold, scoring=scoring_metric)\n",
    "    this_result3 = cv_results['test_accuracy']\n",
    "    this_result4 = cv_results['test_roc_auc']\n",
    "    results3.append(this_result3)\n",
    "    results4.append(this_result4)\n",
    "    names.append(name)\n",
    "    print(\"\\n{}: accuracy : avg={:,.2f}, median={:,.2f},  std={:,.2f},  cv_results={}\".format (\n",
    "        name, np.mean(this_result3), np.median(this_result3), np.std(this_result3), this_result3))\n",
    "    print(\"\\n{}: ROC AUC : avg={:,.2f}, median={:,.2f},  std={:,.2f},  cv_results={}\".format (\n",
    "        name, np.mean(this_result4), np.median(this_result4), np.std(this_result4), this_result4))"
   ]
  },
  {
   "cell_type": "code",
   "execution_count": 174,
   "metadata": {},
   "outputs": [
    {
     "data": {
      "image/png": "[encoded data removed]",
      "text/plain": [
       "<Figure size 720x432 with 1 Axes>"
      ]
     },
     "metadata": {
      "needs_background": "light"
     },
     "output_type": "display_data"
    }
   ],
   "source": [
    "import matplotlib.pyplot as plt\n",
    "import seaborn as sns\n",
    "\n",
    "plt.figure(figsize = (10,6))\n",
    "\n",
    "# boxplot algorithm comparison\n",
    "ax = sns.boxplot(data=results3) \n",
    "ax.set_title('Algorithm Comparison')\n",
    "ax.set_xticklabels(names)\n",
    "ax.set_ylabel('accuracy')\n",
    "plt.show()"
   ]
  },
  {
   "cell_type": "code",
   "execution_count": 176,
   "metadata": {},
   "outputs": [
    {
     "data": {
      "image/png": "[encoded data removed]",
      "text/plain": [
       "<Figure size 720x432 with 1 Axes>"
      ]
     },
     "metadata": {
      "needs_background": "light"
     },
     "output_type": "display_data"
    }
   ],
   "source": [
    "import matplotlib.pyplot as plt\n",
    "import seaborn as sns\n",
    "\n",
    "plt.figure(figsize = (10,6))\n",
    "\n",
    "# boxplot algorithm comparison\n",
    "ax = sns.boxplot(data=results4) \n",
    "ax.set_title('Algorithm Comparison')\n",
    "ax.set_xticklabels(names)\n",
    "ax.set_ylabel('ROC AUC')\n",
    "plt.show()"
   ]
  },
  {
   "cell_type": "raw",
   "metadata": {},
   "source": [
    "==================================================================================================\n",
    "Metric\t\t\t| Description\t\t\t\t | Use case\t\t\t  | Calculation\n",
    "==================================================================================================\n",
    "Accuracy\t\t| Proportion of correct \t | Balanced datasets  | (TP + TN) / (TP + TN + FP + FN)\n",
    "\t\t\t\t| predictions out of all\t | \n",
    "\t\t\t\t| predictions\t\t\t\t | \n",
    "--------------------------------------------------------------------------------------------------\n",
    "Precision\t\t| Proportion of true \t\t | When false \t\t  | TP / (TP + FP)\n",
    "\t\t\t\t| positive predictions out \t | positives are\t  |\n",
    "\t\t\t\t| of all positive predictions| costly\t\t\t  |\n",
    "--------------------------------------------------------------------------------------------------\n",
    "Recall\t\t\t| Proportion of true \t\t | When false \t\t  | TP / (TP + FN)\n",
    "\t\t\t\t| positive predictions \t\t | negatives are \t  |\n",
    "\t\t\t\t| out of all actual positive | costly\t\t\t  |\n",
    "\t\t\t\t| instances\t\t\t\t\t | \t\t\t\t\t  |\n",
    "--------------------------------------------------------------------------------------------------\n",
    "F1 score\t\t| Harmonic mean of precision | When both precision|\t2 * (precision * recall) / \n",
    "\t\t\t\t| and recall\t\t\t\t | and recall are \t  | (precision + recall)\n",
    "\t\t\t\t\t\t\t\t\t\t\t | important\t\t  |\n",
    "--------------------------------------------------------------------------------------------------\n",
    "ROC AUC\t\t\t| Area under the receiver \t | Imbalanced \t\t  | Area under the curve of TPR \n",
    "\t\t\t\t| operating characteristic \t | datasets\t\t\t  | (True Positive Rate) \n",
    "\t\t\t\t| curve\t\t\t\t\t\t |\t\t\t\t\t  | vs FPR (False Positive Rate) \n",
    "\t\t\t\t|\t\t\t\t\t\t\t |\t\t\t\t\t  | at different thresholds\n",
    "--------------------------------------------------------------------------------------------------"
   ]
  },
  {
   "cell_type": "code",
   "execution_count": 184,
   "metadata": {},
   "outputs": [],
   "source": [
    "#end"
   ]
  },
  {
   "cell_type": "code",
   "execution_count": null,
   "metadata": {},
   "outputs": [],
   "source": []
  }
 ],
 "metadata": {
  "colab": {
   "name": "classification-1-credit-card-default.ipynb",
   "provenance": []
  },
  "kernelspec": {
   "display_name": "Python 3 (ipykernel)",
   "language": "python",
   "name": "python3"
  },
  "language_info": {
   "codemirror_mode": {
    "name": "ipython",
    "version": 3
   },
   "file_extension": ".py",
   "mimetype": "text/x-python",
   "name": "python",
   "nbconvert_exporter": "python",
   "pygments_lexer": "ipython3",
   "version": "3.8.8"
  }
 },
 "nbformat": 4,
 "nbformat_minor": 1
}
